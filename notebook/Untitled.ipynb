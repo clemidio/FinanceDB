{
 "cells": [
  {
   "cell_type": "code",
   "execution_count": 1,
   "id": "dramatic-squad",
   "metadata": {},
   "outputs": [],
   "source": [
    "import note_imports"
   ]
  },
  {
   "cell_type": "code",
   "execution_count": 35,
   "id": "choice-cliff",
   "metadata": {},
   "outputs": [
    {
     "name": "stdout",
     "output_type": "stream",
     "text": [
      "5 inserido com sucesso!!\n"
     ]
    }
   ],
   "source": [
    "a = 'ITSA4'\n",
    "try:\n",
    "  # r = Transaction.objects.create(**transaction)\n",
    "  asset = Asset.objects.get(sigla = a)\n",
    "  print(asset)\n",
    "  nota = Nota.objects.get(id = '5')\n",
    "  \n",
    "  r = Transaction.objects.create(asset = asset, date = '2021-02-06',  operation = 'C',    amont = '335',  price = '232.0',    commission = '0',  nota_id = nota , account_bank = 'XP' )\n",
    "  print(r,'inserido com sucesso!!')\n",
    "except Transaction.DoesNotExist:\n",
    "  print('Não foi possivel criar transação: ',r)"
   ]
  },
  {
   "cell_type": "code",
   "execution_count": 47,
   "id": "olive-daughter",
   "metadata": {},
   "outputs": [
    {
     "name": "stdout",
     "output_type": "stream",
     "text": [
      "12.8\n"
     ]
    }
   ],
   "source": [
    "from decimal import Decimal\n",
    "item = {'price':'12,8'}\n",
    "t = float(str(item.get('price')).replace(',','.'))\n",
    "print (t)"
   ]
  },
  {
   "cell_type": "code",
   "execution_count": 52,
   "id": "unnecessary-tanzania",
   "metadata": {},
   "outputs": [
    {
     "data": {
      "text/plain": [
       "'wdcwc'"
      ]
     },
     "execution_count": 52,
     "metadata": {},
     "output_type": "execute_result"
    }
   ],
   "source": [
    "sigla = 'ITUB4'\n",
    "data = dict( symbol = 'wdcwc', name = \"svafvaf\")\n",
    "data['symbol']"
   ]
  },
  {
   "cell_type": "code",
   "execution_count": 7,
   "id": "successful-transformation",
   "metadata": {},
   "outputs": [],
   "source": [
    "from django.db.models import Count, Sum, Avg"
   ]
  },
  {
   "cell_type": "code",
   "execution_count": 3,
   "id": "indian-medication",
   "metadata": {},
   "outputs": [
    {
     "name": "stdout",
     "output_type": "stream",
     "text": [
      "SELECT `transaction_transaction`.`asset_id`, SUM(`transaction_transaction`.`amount`) AS `amount__sum` FROM `transaction_transaction` INNER JOIN `asset_asset` ON (`transaction_transaction`.`asset_id` = `asset_asset`.`id`) GROUP BY `transaction_transaction`.`asset_id`, `asset_asset`.`sigla` ORDER BY `asset_asset`.`sigla` ASC\n"
     ]
    }
   ],
   "source": [
    "t = Transaction.objects.order_by('asset').values('asset').annotate(Sum('amount'))\n",
    "print(t.query)"
   ]
  },
  {
   "cell_type": "code",
   "execution_count": 4,
   "id": "statutory-investor",
   "metadata": {},
   "outputs": [
    {
     "data": {
      "text/plain": [
       "76"
      ]
     },
     "execution_count": 4,
     "metadata": {},
     "output_type": "execute_result"
    }
   ],
   "source": [
    "t.count()"
   ]
  },
  {
   "cell_type": "code",
   "execution_count": 8,
   "id": "located-calculator",
   "metadata": {},
   "outputs": [
    {
     "name": "stdout",
     "output_type": "stream",
     "text": [
      "[{'asset': 134, 'position': '30.00', 'avg_price': '0.00', 'cost_basic': 0, 'mkt_value': 0, 'profit': 0, 'percent': 0}, {'asset': 49, 'position': '400.00', 'avg_price': '18.16', 'cost_basic': 0, 'mkt_value': 0, 'profit': 0, 'percent': 0}, {'asset': 139, 'position': '300.00', 'avg_price': '9.02', 'cost_basic': 0, 'mkt_value': 0, 'profit': 0, 'percent': 0}, {'asset': 102, 'position': '110.00', 'avg_price': '105.65', 'cost_basic': 0, 'mkt_value': 0, 'profit': 0, 'percent': 0}, {'asset': 136, 'position': '500.00', 'avg_price': '6.80', 'cost_basic': 0, 'mkt_value': 0, 'profit': 0, 'percent': 0}, {'asset': 58, 'position': '400.00', 'avg_price': '26.72', 'cost_basic': 0, 'mkt_value': 0, 'profit': 0, 'percent': 0}, {'asset': 62, 'position': '100.00', 'avg_price': '14.19', 'cost_basic': 0, 'mkt_value': 0, 'profit': 0, 'percent': 0}, {'asset': 132, 'position': '0.33', 'avg_price': '9963.02', 'cost_basic': 0, 'mkt_value': 0, 'profit': 0, 'percent': 0}, {'asset': 63, 'position': '400.00', 'avg_price': '10.39', 'cost_basic': 0, 'mkt_value': 0, 'profit': 0, 'percent': 0}, {'asset': 118, 'position': '9.45', 'avg_price': '936.33', 'cost_basic': 0, 'mkt_value': 0, 'profit': 0, 'percent': 0}, {'asset': 130, 'position': '49.08', 'avg_price': '34.94', 'cost_basic': 0, 'mkt_value': 0, 'profit': 0, 'percent': 0}, {'asset': 94, 'position': '200.00', 'avg_price': '23.96', 'cost_basic': 0, 'mkt_value': 0, 'profit': 0, 'percent': 0}, {'asset': 81, 'position': '300.00', 'avg_price': '50.42', 'cost_basic': 0, 'mkt_value': 0, 'profit': 0, 'percent': 0}, {'asset': 120, 'position': '600.00', 'avg_price': '10.81', 'cost_basic': 0, 'mkt_value': 0, 'profit': 0, 'percent': 0}, {'asset': 124, 'position': '400.00', 'avg_price': '43.02', 'cost_basic': 0, 'mkt_value': 0, 'profit': 0, 'percent': 0}, {'asset': 122, 'position': '6.00', 'avg_price': '642.94', 'cost_basic': 0, 'mkt_value': 0, 'profit': 0, 'percent': 0}, {'asset': 125, 'position': '200.00', 'avg_price': '45.00', 'cost_basic': 0, 'mkt_value': 0, 'profit': 0, 'percent': 0}, {'asset': 113, 'position': '800.00', 'avg_price': '17.52', 'cost_basic': 0, 'mkt_value': 0, 'profit': 0, 'percent': 0}, {'asset': 79, 'position': '186.00', 'avg_price': '62.66', 'cost_basic': 0, 'mkt_value': 0, 'profit': 0, 'percent': 0}, {'asset': 91, 'position': '10.00', 'avg_price': '455.23', 'cost_basic': 0, 'mkt_value': 0, 'profit': 0, 'percent': 0}, {'asset': 92, 'position': '400.00', 'avg_price': '21.59', 'cost_basic': 0, 'mkt_value': 0, 'profit': 0, 'percent': 0}, {'asset': 104, 'position': '200.00', 'avg_price': '42.50', 'cost_basic': 0, 'mkt_value': 0, 'profit': 0, 'percent': 0}, {'asset': 77, 'position': '100.00', 'avg_price': '15.42', 'cost_basic': 0, 'mkt_value': 0, 'profit': 0, 'percent': 0}, {'asset': 85, 'position': '40.00', 'avg_price': '126.00', 'cost_basic': 0, 'mkt_value': 0, 'profit': 0, 'percent': 0}, {'asset': 128, 'position': '100.00', 'avg_price': '71.80', 'cost_basic': 0, 'mkt_value': 0, 'profit': 0, 'percent': 0}, {'asset': 103, 'position': '94.00', 'avg_price': '116.79', 'cost_basic': 0, 'mkt_value': 0, 'profit': 0, 'percent': 0}, {'asset': 117, 'position': '38.00', 'avg_price': '168.95', 'cost_basic': 0, 'mkt_value': 0, 'profit': 0, 'percent': 0}, {'asset': 115, 'position': '74.00', 'avg_price': '118.66', 'cost_basic': 0, 'mkt_value': 0, 'profit': 0, 'percent': 0}, {'asset': 121, 'position': '20.00', 'avg_price': '104.80', 'cost_basic': 0, 'mkt_value': 0, 'profit': 0, 'percent': 0}, {'asset': 119, 'position': '147.16', 'avg_price': '77.61', 'cost_basic': 0, 'mkt_value': 0, 'profit': 0, 'percent': 0}, {'asset': 71, 'position': '1620.00', 'avg_price': '10.20', 'cost_basic': 0, 'mkt_value': 0, 'profit': 0, 'percent': 0}, {'asset': 72, 'position': '600.00', 'avg_price': '32.17', 'cost_basic': 0, 'mkt_value': 0, 'profit': 0, 'percent': 0}, {'asset': 100, 'position': '600.00', 'avg_price': '14.12', 'cost_basic': 0, 'mkt_value': 0, 'profit': 0, 'percent': 0}, {'asset': 89, 'position': '20.00', 'avg_price': '150.70', 'cost_basic': 0, 'mkt_value': 0, 'profit': 0, 'percent': 0}, {'asset': 97, 'position': '400.00', 'avg_price': '24.42', 'cost_basic': 0, 'mkt_value': 0, 'profit': 0, 'percent': 0}, {'asset': 110, 'position': '100.00', 'avg_price': '25.67', 'cost_basic': 0, 'mkt_value': 0, 'profit': 0, 'percent': 0}, {'asset': 101, 'position': '112.00', 'avg_price': '102.39', 'cost_basic': 0, 'mkt_value': 0, 'profit': 0, 'percent': 0}, {'asset': 93, 'position': '400.00', 'avg_price': '36.59', 'cost_basic': 0, 'mkt_value': 0, 'profit': 0, 'percent': 0}, {'asset': 105, 'position': '742.00', 'avg_price': '58.78', 'cost_basic': 0, 'mkt_value': 0, 'profit': 0, 'percent': 0}, {'asset': 114, 'position': '200.00', 'avg_price': '18.70', 'cost_basic': 0, 'mkt_value': 0, 'profit': 0, 'percent': 0}, {'asset': 131, 'position': '200.00', 'avg_price': '16.53', 'cost_basic': 0, 'mkt_value': 0, 'profit': 0, 'percent': 0}, {'asset': 135, 'position': '200.00', 'avg_price': '18.80', 'cost_basic': 0, 'mkt_value': 0, 'profit': 0, 'percent': 0}, {'asset': 137, 'position': '800.00', 'avg_price': '3.60', 'cost_basic': 0, 'mkt_value': 0, 'profit': 0, 'percent': 0}, {'asset': 129, 'position': '200.00', 'avg_price': '4.69', 'cost_basic': 0, 'mkt_value': 0, 'profit': 0, 'percent': 0}, {'asset': 96, 'position': '132.00', 'avg_price': '102.39', 'cost_basic': 0, 'mkt_value': 0, 'profit': 0, 'percent': 0}, {'asset': 106, 'position': '200.00', 'avg_price': '19.36', 'cost_basic': 0, 'mkt_value': 0, 'profit': 0, 'percent': 0}, {'asset': 140, 'position': '200.00', 'avg_price': '4.67', 'cost_basic': 0, 'mkt_value': 0, 'profit': 0, 'percent': 0}, {'asset': 126, 'position': '600.00', 'avg_price': '7.41', 'cost_basic': 0, 'mkt_value': 0, 'profit': 0, 'percent': 0}, {'asset': 99, 'position': '100.00', 'avg_price': '40.73', 'cost_basic': 0, 'mkt_value': 0, 'profit': 0, 'percent': 0}, {'asset': 108, 'position': '674.00', 'avg_price': '27.58', 'cost_basic': 0, 'mkt_value': 0, 'profit': 0, 'percent': 0}, {'asset': 83, 'position': '810.00', 'avg_price': '10.87', 'cost_basic': 0, 'mkt_value': 0, 'profit': 0, 'percent': 0}, {'asset': 107, 'position': '100.00', 'avg_price': '9.41', 'cost_basic': 0, 'mkt_value': 0, 'profit': 0, 'percent': 0}, {'asset': 127, 'position': '400.00', 'avg_price': '22.42', 'cost_basic': 0, 'mkt_value': 0, 'profit': 0, 'percent': 0}, {'asset': 111, 'position': '200.00', 'avg_price': '17.90', 'cost_basic': 0, 'mkt_value': 0, 'profit': 0, 'percent': 0}, {'asset': 98, 'position': '632.00', 'avg_price': '24.85', 'cost_basic': 0, 'mkt_value': 0, 'profit': 0, 'percent': 0}, {'asset': 112, 'position': '100.00', 'avg_price': '8.58', 'cost_basic': 0, 'mkt_value': 0, 'profit': 0, 'percent': 0}, {'asset': 86, 'position': '86.00', 'avg_price': '106.16', 'cost_basic': 0, 'mkt_value': 0, 'profit': 0, 'percent': 0}, {'asset': 109, 'position': '108.00', 'avg_price': '117.46', 'cost_basic': 0, 'mkt_value': 0, 'profit': 0, 'percent': 0}, {'asset': 141, 'position': '150.00', 'avg_price': '12.42', 'cost_basic': 0, 'mkt_value': 0, 'profit': 0, 'percent': 0}, {'asset': 95, 'position': '400.00', 'avg_price': '18.22', 'cost_basic': 0, 'mkt_value': 0, 'profit': 0, 'percent': 0}, {'asset': 123, 'position': '12.00', 'avg_price': '233.15', 'cost_basic': 0, 'mkt_value': 0, 'profit': 0, 'percent': 0}, {'asset': 84, 'position': '1000.00', 'avg_price': '9.50', 'cost_basic': 0, 'mkt_value': 0, 'profit': 0, 'percent': 0}, {'asset': 133, 'position': '14.00', 'avg_price': '233.78', 'cost_basic': 0, 'mkt_value': 0, 'profit': 0, 'percent': 0}, {'asset': 138, 'position': '20.00', 'avg_price': '243.43', 'cost_basic': 0, 'mkt_value': 0, 'profit': 0, 'percent': 0}, {'asset': 116, 'position': '20.00', 'avg_price': '109.27', 'cost_basic': 0, 'mkt_value': 0, 'profit': 0, 'percent': 0}, {'asset': 87, 'position': '120.00', 'avg_price': '107.10', 'cost_basic': 0, 'mkt_value': 0, 'profit': 0, 'percent': 0}]\n"
     ]
    }
   ],
   "source": [
    "t = Transaction.objects.order_by('asset').values('asset').annotate(Sum('amount'),Avg('price'))\n",
    "data = []\n",
    "objects = []\n",
    "for pos in t:\n",
    "    if pos['amount__sum']>0:\n",
    "        data = dict(\n",
    "            asset = pos['asset'],\n",
    "            position =  \"{:.2f}\".format(pos['amount__sum']),\n",
    "            avg_price = \"{:.2f}\".format(pos['price__avg']),\n",
    "            cost_basic = 0,\n",
    "            mkt_value = 0,\n",
    "            profit = 0,\n",
    "            percent = 0,\n",
    "        )\n",
    "        objects.append(data)\n",
    "print(objects)\n"
   ]
  },
  {
   "cell_type": "code",
   "execution_count": 57,
   "id": "divided-break",
   "metadata": {},
   "outputs": [
    {
     "data": {
      "text/plain": [
       "<QuerySet [{'asset': 49, 'amont__sum': Decimal('200.00000')}, {'asset': 49, 'amont__sum': Decimal('200.00000')}, {'asset': 58, 'amont__sum': Decimal('400.00000')}, {'asset': 62, 'amont__sum': Decimal('200.00000')}, {'asset': 62, 'amont__sum': Decimal('1000.00000')}, {'asset': 62, 'amont__sum': Decimal('-1200.00000')}, {'asset': 62, 'amont__sum': Decimal('200.00000')}, {'asset': 62, 'amont__sum': Decimal('200.00000')}, {'asset': 62, 'amont__sum': Decimal('-200.00000')}, {'asset': 62, 'amont__sum': Decimal('-100.00000')}, {'asset': 63, 'amont__sum': Decimal('400.00000')}, {'asset': 66, 'amont__sum': Decimal('200.00000')}, {'asset': 66, 'amont__sum': Decimal('-200.00000')}, {'asset': 71, 'amont__sum': Decimal('200.00000')}, {'asset': 71, 'amont__sum': Decimal('20.00000')}, {'asset': 71, 'amont__sum': Decimal('200.00000')}, {'asset': 71, 'amont__sum': Decimal('200.00000')}, {'asset': 71, 'amont__sum': Decimal('200.00000')}, {'asset': 71, 'amont__sum': Decimal('200.00000')}, {'asset': 71, 'amont__sum': Decimal('-200.00000')}, '...(remaining elements truncated)...']>"
      ]
     },
     "execution_count": 57,
     "metadata": {},
     "output_type": "execute_result"
    }
   ],
   "source": [
    "t"
   ]
  },
  {
   "cell_type": "code",
   "execution_count": 30,
   "id": "swiss-satellite",
   "metadata": {},
   "outputs": [
    {
     "data": {
      "text/plain": [
       "76"
      ]
     },
     "execution_count": 30,
     "metadata": {},
     "output_type": "execute_result"
    }
   ],
   "source": [
    "t = Transaction.objects.all().values_list('asset', flat = True).distinct()\n",
    "t.count()"
   ]
  },
  {
   "cell_type": "code",
   "execution_count": 28,
   "id": "silent-medicare",
   "metadata": {},
   "outputs": [],
   "source": [
    "sql = \"\"\"\n",
    "select\n",
    "    qt.product,\n",
    "    qt.company,\n",
    "    qt.price\n",
    "\n",
    "from Quotation qt\n",
    "where qt.price = (  \n",
    "    select Min(qt2.price)\n",
    "    from Quotation qt2\n",
    "    where qt2.product = qt.product\n",
    ")\n",
    "\"\"\"\n",
    "t = Transaction.objects.raw(sql)"
   ]
  },
  {
   "cell_type": "code",
   "execution_count": 53,
   "id": "fallen-parallel",
   "metadata": {},
   "outputs": [
    {
     "name": "stdout",
     "output_type": "stream",
     "text": [
      "[{'asset_id': 49, 'sum(amont)': Decimal('400.00000')}, {'asset_id': 58, 'sum(amont)': Decimal('400.00000')}, {'asset_id': 62, 'sum(amont)': Decimal('100.00000')}, {'asset_id': 63, 'sum(amont)': Decimal('400.00000')}, {'asset_id': 66, 'sum(amont)': Decimal('0.00000')}, {'asset_id': 71, 'sum(amont)': Decimal('1620.00000')}, {'asset_id': 72, 'sum(amont)': Decimal('600.00000')}, {'asset_id': 73, 'sum(amont)': Decimal('0.00000')}, {'asset_id': 74, 'sum(amont)': Decimal('0.00000')}, {'asset_id': 75, 'sum(amont)': Decimal('0.00000')}, {'asset_id': 76, 'sum(amont)': Decimal('0.00000')}, {'asset_id': 77, 'sum(amont)': Decimal('100.00000')}, {'asset_id': 78, 'sum(amont)': Decimal('0.00000')}, {'asset_id': 79, 'sum(amont)': Decimal('186.00000')}, {'asset_id': 80, 'sum(amont)': Decimal('0.00000')}, {'asset_id': 81, 'sum(amont)': Decimal('300.00000')}, {'asset_id': 82, 'sum(amont)': Decimal('0.00000')}, {'asset_id': 83, 'sum(amont)': Decimal('810.00000')}, {'asset_id': 84, 'sum(amont)': Decimal('1000.00000')}, {'asset_id': 85, 'sum(amont)': Decimal('40.00000')}, {'asset_id': 86, 'sum(amont)': Decimal('86.00000')}, {'asset_id': 87, 'sum(amont)': Decimal('120.00000')}, {'asset_id': 88, 'sum(amont)': Decimal('0.00000')}, {'asset_id': 89, 'sum(amont)': Decimal('20.00000')}, {'asset_id': 90, 'sum(amont)': Decimal('0.00000')}, {'asset_id': 91, 'sum(amont)': Decimal('10.00000')}, {'asset_id': 92, 'sum(amont)': Decimal('400.00000')}, {'asset_id': 93, 'sum(amont)': Decimal('400.00000')}, {'asset_id': 94, 'sum(amont)': Decimal('200.00000')}, {'asset_id': 95, 'sum(amont)': Decimal('400.00000')}, {'asset_id': 96, 'sum(amont)': Decimal('132.00000')}, {'asset_id': 97, 'sum(amont)': Decimal('400.00000')}, {'asset_id': 98, 'sum(amont)': Decimal('632.00000')}, {'asset_id': 99, 'sum(amont)': Decimal('100.00000')}, {'asset_id': 100, 'sum(amont)': Decimal('600.00000')}, {'asset_id': 101, 'sum(amont)': Decimal('112.00000')}, {'asset_id': 102, 'sum(amont)': Decimal('110.00000')}, {'asset_id': 103, 'sum(amont)': Decimal('94.00000')}, {'asset_id': 104, 'sum(amont)': Decimal('200.00000')}, {'asset_id': 105, 'sum(amont)': Decimal('742.00000')}, {'asset_id': 106, 'sum(amont)': Decimal('200.00000')}, {'asset_id': 107, 'sum(amont)': Decimal('100.00000')}, {'asset_id': 108, 'sum(amont)': Decimal('674.00000')}, {'asset_id': 109, 'sum(amont)': Decimal('108.00000')}, {'asset_id': 110, 'sum(amont)': Decimal('100.00000')}, {'asset_id': 111, 'sum(amont)': Decimal('200.00000')}, {'asset_id': 112, 'sum(amont)': Decimal('100.00000')}, {'asset_id': 113, 'sum(amont)': Decimal('800.00000')}, {'asset_id': 114, 'sum(amont)': Decimal('200.00000')}, {'asset_id': 115, 'sum(amont)': Decimal('74.00000')}, {'asset_id': 116, 'sum(amont)': Decimal('20.00000')}, {'asset_id': 117, 'sum(amont)': Decimal('38.00000')}, {'asset_id': 118, 'sum(amont)': Decimal('9.44800')}, {'asset_id': 119, 'sum(amont)': Decimal('147.16000')}, {'asset_id': 120, 'sum(amont)': Decimal('600.00000')}, {'asset_id': 121, 'sum(amont)': Decimal('20.00000')}, {'asset_id': 122, 'sum(amont)': Decimal('6.00000')}, {'asset_id': 123, 'sum(amont)': Decimal('12.00000')}, {'asset_id': 124, 'sum(amont)': Decimal('400.00000')}, {'asset_id': 125, 'sum(amont)': Decimal('200.00000')}, {'asset_id': 126, 'sum(amont)': Decimal('600.00000')}, {'asset_id': 127, 'sum(amont)': Decimal('400.00000')}, {'asset_id': 128, 'sum(amont)': Decimal('100.00000')}, {'asset_id': 129, 'sum(amont)': Decimal('200.00000')}, {'asset_id': 130, 'sum(amont)': Decimal('49.07640')}, {'asset_id': 131, 'sum(amont)': Decimal('200.00000')}, {'asset_id': 132, 'sum(amont)': Decimal('0.33260')}, {'asset_id': 133, 'sum(amont)': Decimal('14.00000')}, {'asset_id': 134, 'sum(amont)': Decimal('30.00000')}, {'asset_id': 135, 'sum(amont)': Decimal('200.00000')}, {'asset_id': 136, 'sum(amont)': Decimal('500.00000')}, {'asset_id': 137, 'sum(amont)': Decimal('800.00000')}, {'asset_id': 138, 'sum(amont)': Decimal('20.00000')}, {'asset_id': 139, 'sum(amont)': Decimal('300.00000')}, {'asset_id': 140, 'sum(amont)': Decimal('200.00000')}, {'asset_id': 141, 'sum(amont)': Decimal('150.00000')}]\n"
     ]
    }
   ],
   "source": [
    "from django.db import connection\n",
    "def dictfetchall(cursor):\n",
    "    \"Return all rows from a cursor as a dict\"\n",
    "    columns = [col[0] for col in cursor.description]\n",
    "    return [\n",
    "        dict(zip(columns, row))\n",
    "        for row in cursor.fetchall()\n",
    "    ]\n",
    "with connection.cursor() as cursor:\n",
    "    cursor.execute(\"SELECT asset_id, sum(amont) FROM financeDB.transaction_transaction group by asset_id\")\n",
    "    row = dictfetchall(cursor) #cursor.fetchall()\n",
    "\n",
    "print(row)\n",
    "#for p in row: #Transaction.objects.raw('SELECT asset_id, sum(amont) FROM financeDB.transaction_transaction group by asset_id'):\n",
    "#    print(p)"
   ]
  },
  {
   "cell_type": "code",
   "execution_count": 29,
   "id": "funky-framing",
   "metadata": {},
   "outputs": [
    {
     "data": {
      "text/plain": [
       "76"
      ]
     },
     "execution_count": 29,
     "metadata": {},
     "output_type": "execute_result"
    }
   ],
   "source": [
    "t.count()"
   ]
  },
  {
   "cell_type": "code",
   "execution_count": 31,
   "id": "legislative-airplane",
   "metadata": {},
   "outputs": [
    {
     "data": {
      "text/plain": [
       "<QuerySet [71, 72, 71, 71, 62, 72, 58, 73, 74, 75, 66, 76, 66, 77, 78, 74, 76, 79, 80, 74, '...(remaining elements truncated)...']>"
      ]
     },
     "execution_count": 31,
     "metadata": {},
     "output_type": "execute_result"
    }
   ],
   "source": [
    "t"
   ]
  },
  {
   "cell_type": "code",
   "execution_count": 19,
   "id": "greenhouse-indicator",
   "metadata": {},
   "outputs": [
    {
     "name": "stdout",
     "output_type": "stream",
     "text": [
      "{'Ativo': 'AAL', 'Qtd_atual': '30.00'}\n",
      "{'Ativo': 'ABEV3', 'Qtd_atual': '400.00'}\n",
      "{'Ativo': 'AERI3', 'Qtd_atual': '300.00'}\n",
      "{'Ativo': 'ALZR11', 'Qtd_atual': '110.00'}\n",
      "{'Ativo': 'AQMS', 'Qtd_atual': '500.00'}\n",
      "{'Ativo': 'BBSE3', 'Qtd_atual': '400.00'}\n",
      "{'Ativo': 'BIDI4', 'Qtd_atual': '100.00'}\n",
      "{'Ativo': 'BKNG', 'Qtd_atual': '0.33'}\n",
      "{'Ativo': 'BPAN4', 'Qtd_atual': '400.00'}\n",
      "{'Ativo': 'BRK.B', 'Qtd_atual': '9.45'}\n",
      "{'Ativo': 'BRK.B', 'Qtd_atual': '9.45'}\n",
      "{'Ativo': 'CCJ', 'Qtd_atual': '49.08'}\n",
      "{'Ativo': 'CGRA4', 'Qtd_atual': '200.00'}\n",
      "{'Ativo': 'COCE5', 'Qtd_atual': '300.00'}\n",
      "{'Ativo': 'COGN3', 'Qtd_atual': '600.00'}\n",
      "{'Ativo': 'CVCB3', 'Qtd_atual': '400.00'}\n",
      "{'Ativo': 'DIS', 'Qtd_atual': '6.00'}\n",
      "{'Ativo': 'DIS', 'Qtd_atual': '6.00'}\n",
      "{'Ativo': 'EGIE3', 'Qtd_atual': '200.00'}\n",
      "{'Ativo': 'ENBR3', 'Qtd_atual': '800.00'}\n",
      "{'Ativo': 'FIGS11', 'Qtd_atual': '186.00'}\n",
      "{'Ativo': 'FIIB11', 'Qtd_atual': '10.00'}\n",
      "{'Ativo': 'FLRY3', 'Qtd_atual': '400.00'}\n",
      "{'Ativo': 'GEPA4', 'Qtd_atual': '200.00'}\n",
      "{'Ativo': 'GGBR4', 'Qtd_atual': '100.00'}\n",
      "{'Ativo': 'GGRC11', 'Qtd_atual': '40.00'}\n",
      "{'Ativo': 'GNDI3', 'Qtd_atual': '100.00'}\n",
      "{'Ativo': 'GNDI3', 'Qtd_atual': '100.00'}\n",
      "{'Ativo': 'GNDI3', 'Qtd_atual': '100.00'}\n",
      "{'Ativo': 'HGCR11', 'Qtd_atual': '94.00'}\n",
      "{'Ativo': 'HGCR11', 'Qtd_atual': '94.00'}\n",
      "{'Ativo': 'HGRE11', 'Qtd_atual': '38.00'}\n",
      "{'Ativo': 'HGRU11', 'Qtd_atual': '74.00'}\n",
      "{'Ativo': 'HSML11', 'Qtd_atual': '20.00'}\n",
      "{'Ativo': 'IAU', 'Qtd_atual': '147.16'}\n",
      "{'Ativo': 'ITSA4', 'Qtd_atual': '1620.00'}\n",
      "{'Ativo': 'ITUB4', 'Qtd_atual': '600.00'}\n",
      "{'Ativo': 'KLBN11', 'Qtd_atual': '600.00'}\n",
      "{'Ativo': 'KNRI11', 'Qtd_atual': '20.00'}\n",
      "{'Ativo': 'LEVE3', 'Qtd_atual': '400.00'}\n",
      "{'Ativo': 'LOGG3', 'Qtd_atual': '100.00'}\n",
      "{'Ativo': 'MALL11', 'Qtd_atual': '112.00'}\n",
      "{'Ativo': 'MDIA3', 'Qtd_atual': '400.00'}\n",
      "{'Ativo': 'MGLU3', 'Qtd_atual': '742.00'}\n",
      "{'Ativo': 'MGLU3', 'Qtd_atual': '742.00'}\n",
      "{'Ativo': 'MYPK3', 'Qtd_atual': '200.00'}\n",
      "{'Ativo': 'MYPK3', 'Qtd_atual': '200.00'}\n",
      "{'Ativo': 'PETR4', 'Qtd_atual': '200.00'}\n",
      "{'Ativo': 'PETZ3', 'Qtd_atual': '200.00'}\n",
      "{'Ativo': 'PHUN', 'Qtd_atual': '800.00'}\n",
      "{'Ativo': 'PHUN', 'Qtd_atual': '800.00'}\n",
      "{'Ativo': 'RANI3', 'Qtd_atual': '200.00'}\n",
      "{'Ativo': 'RBRR11', 'Qtd_atual': '132.00'}\n",
      "{'Ativo': 'RLOG3', 'Qtd_atual': '200.00'}\n",
      "{'Ativo': 'SENS', 'Qtd_atual': '200.00'}\n",
      "{'Ativo': 'SENS', 'Qtd_atual': '200.00'}\n",
      "{'Ativo': 'STBP3', 'Qtd_atual': '600.00'}\n",
      "{'Ativo': 'SUZB3', 'Qtd_atual': '100.00'}\n",
      "{'Ativo': 'TAEE11', 'Qtd_atual': '674.00'}\n",
      "{'Ativo': 'TIET11', 'Qtd_atual': '810.00'}\n",
      "{'Ativo': 'TIET11', 'Qtd_atual': '810.00'}\n",
      "{'Ativo': 'TRIS3', 'Qtd_atual': '100.00'}\n",
      "{'Ativo': 'TRPL4', 'Qtd_atual': '400.00'}\n",
      "{'Ativo': 'TUPY3', 'Qtd_atual': '200.00'}\n",
      "{'Ativo': 'UNIP6', 'Qtd_atual': '632.00'}\n",
      "{'Ativo': 'USIM5', 'Qtd_atual': '100.00'}\n",
      "{'Ativo': 'VISC11', 'Qtd_atual': '86.00'}\n",
      "{'Ativo': 'VRTA11', 'Qtd_atual': '108.00'}\n",
      "{'Ativo': 'WATT', 'Qtd_atual': '150.00'}\n",
      "{'Ativo': 'WEGE3', 'Qtd_atual': '400.00'}\n",
      "{'Ativo': 'WFC', 'Qtd_atual': '12.00'}\n",
      "{'Ativo': 'WIZS3', 'Qtd_atual': '1000.00'}\n",
      "{'Ativo': 'XOM', 'Qtd_atual': '14.00'}\n",
      "{'Ativo': 'XPEV', 'Qtd_atual': '20.00'}\n",
      "{'Ativo': 'XPLG11', 'Qtd_atual': '20.00'}\n",
      "{'Ativo': 'XPML11', 'Qtd_atual': '120.00'}\n"
     ]
    }
   ],
   "source": [
    "transaction = Transaction.objects.order_by('asset').values('asset').distinct()\n",
    "data = {}\n",
    "for a in transaction:\n",
    "    asset = Asset.objects.get(pk = a['asset'])\n",
    "    t = Transaction.objects.filter(asset = asset).aggregate(Sum('amont'))\n",
    "    if t['amont__sum']>0:\n",
    "        data['Ativo'] = asset.sigla\n",
    "        data['Qtd_atual'] = \"{:.2f}\".format(t['amont__sum'])\n",
    "    print(data)"
   ]
  },
  {
   "cell_type": "code",
   "execution_count": 60,
   "id": "comfortable-offense",
   "metadata": {},
   "outputs": [
    {
     "data": {
      "text/plain": [
       "{'amont__sum': Decimal('1620.00000')}"
      ]
     },
     "execution_count": 60,
     "metadata": {},
     "output_type": "execute_result"
    }
   ],
   "source": [
    "asset = Asset.objects.get(sigla = 'ITSA4')\n",
    "t = Transaction.objects.filter(asset = asset)\n",
    "t.aggregate(Sum('amont'))"
   ]
  },
  {
   "cell_type": "code",
   "execution_count": 55,
   "id": "abroad-bouquet",
   "metadata": {},
   "outputs": [
    {
     "data": {
      "text/plain": [
       "<QuerySet [<Transaction: 73>, <Transaction: 275>, <Transaction: 278>, <Transaction: 76>, <Transaction: 279>, <Transaction: 77>, <Transaction: 316>, <Transaction: 114>, <Transaction: 317>, <Transaction: 115>, <Transaction: 333>, <Transaction: 131>, <Transaction: 370>, <Transaction: 168>, <Transaction: 255>, <Transaction: 457>, <Transaction: 260>, <Transaction: 462>, <Transaction: 265>, <Transaction: 467>]>"
      ]
     },
     "execution_count": 55,
     "metadata": {},
     "output_type": "execute_result"
    }
   ],
   "source": [
    "t"
   ]
  },
  {
   "cell_type": "code",
   "execution_count": 56,
   "id": "ready-dublin",
   "metadata": {},
   "outputs": [
    {
     "data": {
      "text/plain": [
       "20"
      ]
     },
     "execution_count": 56,
     "metadata": {},
     "output_type": "execute_result"
    }
   ],
   "source": [
    "t.count()"
   ]
  },
  {
   "cell_type": "code",
   "execution_count": 21,
   "id": "yellow-magnitude",
   "metadata": {},
   "outputs": [
    {
     "ename": "AttributeError",
     "evalue": "'dict' object has no attribute 'asset'",
     "output_type": "error",
     "traceback": [
      "\u001b[1;31m---------------------------------------------------------------------------\u001b[0m",
      "\u001b[1;31mAttributeError\u001b[0m                            Traceback (most recent call last)",
      "\u001b[1;32m<ipython-input-21-b4cc1cd57112>\u001b[0m in \u001b[0;36m<module>\u001b[1;34m\u001b[0m\n\u001b[0;32m      1\u001b[0m \u001b[1;32mfor\u001b[0m \u001b[0masset\u001b[0m \u001b[1;32min\u001b[0m \u001b[0mt\u001b[0m\u001b[1;33m:\u001b[0m\u001b[1;33m\u001b[0m\u001b[1;33m\u001b[0m\u001b[0m\n\u001b[0;32m      2\u001b[0m \u001b[1;33m\u001b[0m\u001b[0m\n\u001b[1;32m----> 3\u001b[1;33m     \u001b[0mprint\u001b[0m\u001b[1;33m(\u001b[0m \u001b[0masset\u001b[0m\u001b[1;33m.\u001b[0m\u001b[0masset\u001b[0m\u001b[1;33m)\u001b[0m\u001b[1;33m\u001b[0m\u001b[1;33m\u001b[0m\u001b[0m\n\u001b[0m",
      "\u001b[1;31mAttributeError\u001b[0m: 'dict' object has no attribute 'asset'"
     ]
    }
   ],
   "source": []
  },
  {
   "cell_type": "code",
   "execution_count": null,
   "id": "quantitative-theory",
   "metadata": {},
   "outputs": [],
   "source": [
    "texto = \"C - Compra\",\\\n",
    "V - Venda ,\\\n",
    "DT- Day Trade,\\\n",
    "S/I - Split ou Inplit,\\  \n",
    "AT- Alteração Ticker,\\\n",
    "BN - Bonificação,\\\n",
    "AM - Amortização,\\\n",
    "SUB - Compra de Subscrição\n",
    "V.SUB - Venda Direito Subscrição\n",
    "V.SOB - Venda de sobras de S/I ou Cisão\n",
    "CISÃO - Operação de cião de capital social\n",
    "EX.OPC - Venda ou Compra por Exercício de Opção\""
   ]
  },
  {
   "cell_type": "code",
   "execution_count": 2,
   "id": "suited-genius",
   "metadata": {},
   "outputs": [],
   "source": [
    "assets = Asset.objects.all()[:4]"
   ]
  },
  {
   "cell_type": "code",
   "execution_count": 5,
   "id": "mental-florist",
   "metadata": {},
   "outputs": [
    {
     "data": {
      "text/plain": [
       "'AAL'"
      ]
     },
     "execution_count": 5,
     "metadata": {},
     "output_type": "execute_result"
    }
   ],
   "source": [
    "assets[0].sigla"
   ]
  },
  {
   "cell_type": "code",
   "execution_count": 31,
   "id": "tight-detroit",
   "metadata": {},
   "outputs": [],
   "source": [
    "sigla = 'qdqec'"
   ]
  },
  {
   "cell_type": "code",
   "execution_count": 32,
   "id": "valuable-detective",
   "metadata": {},
   "outputs": [
    {
     "name": "stdout",
     "output_type": "stream",
     "text": [
      "qdqecq Foi criado com sucesso\n"
     ]
    }
   ],
   "source": [
    "try:\n",
    "    asset = Asset.objects.get(sigla = sigla)\n",
    "    print(asset,'ja existe no banco de dados')\n",
    "except Asset.DoesNotExist:\n",
    "    Asset.objects.create(sigla = sigla)\n",
    "    print(asset,'Foi criado com sucesso')"
   ]
  },
  {
   "cell_type": "code",
   "execution_count": 40,
   "id": "careful-suspension",
   "metadata": {},
   "outputs": [],
   "source": [
    "corretora = 'XP'"
   ]
  },
  {
   "cell_type": "code",
   "execution_count": 42,
   "id": "naval-assets",
   "metadata": {},
   "outputs": [
    {
     "name": "stdout",
     "output_type": "stream",
     "text": [
      "1 Foi criado com sucesso\n"
     ]
    }
   ],
   "source": [
    "try:\n",
    "    nota = Nota.objects.get(n_nota = corretora)\n",
    "    print(nota,'ja existe no banco de dados')\n",
    "except Nota.DoesNotExist:\n",
    "    Nota.objects.create(account_name = corretora, n_nota = corretora, date = date.today())\n",
    "    print(nota,'Foi criado com sucesso')"
   ]
  },
  {
   "cell_type": "code",
   "execution_count": 44,
   "id": "married-consortium",
   "metadata": {},
   "outputs": [
    {
     "data": {
      "text/plain": [
       "2"
      ]
     },
     "execution_count": 44,
     "metadata": {},
     "output_type": "execute_result"
    }
   ],
   "source": [
    "nota = Nota.objects.all()\n",
    "nota[1].id"
   ]
  },
  {
   "cell_type": "code",
   "execution_count": 4,
   "id": "herbal-triumph",
   "metadata": {},
   "outputs": [],
   "source": [
    "\n",
    "assets = Asset.objects.filter(sigla__icontains = 'c')"
   ]
  },
  {
   "cell_type": "code",
   "execution_count": 5,
   "id": "embedded-failure",
   "metadata": {},
   "outputs": [
    {
     "data": {
      "text/plain": [
       "1"
      ]
     },
     "execution_count": 5,
     "metadata": {},
     "output_type": "execute_result"
    }
   ],
   "source": [
    "assets.count()"
   ]
  },
  {
   "cell_type": "code",
   "execution_count": 6,
   "id": "little-settlement",
   "metadata": {},
   "outputs": [
    {
     "name": "stdout",
     "output_type": "stream",
     "text": [
      "qdqecqq None\n"
     ]
    }
   ],
   "source": [
    "for asset in assets: print(asset.sigla, asset.name)"
   ]
  },
  {
   "cell_type": "code",
   "execution_count": 7,
   "id": "established-aspect",
   "metadata": {},
   "outputs": [
    {
     "data": {
      "text/plain": [
       "<QuerySet [None, None, None]>"
      ]
     },
     "execution_count": 7,
     "metadata": {},
     "output_type": "execute_result"
    }
   ],
   "source": [
    "Asset.objects.all().values_list('name', flat = True).order_by('name')"
   ]
  },
  {
   "cell_type": "code",
   "execution_count": 39,
   "id": "romance-forwarding",
   "metadata": {},
   "outputs": [
    {
     "name": "stdout",
     "output_type": "stream",
     "text": [
      "2021-02-05\n"
     ]
    }
   ],
   "source": [
    "from datetime import date\n",
    "data_atual = date.today()\n",
    "print(data_atual)"
   ]
  }
 ],
 "metadata": {
  "kernelspec": {
   "display_name": "Django Shell-Plus",
   "language": "python",
   "name": "django_extensions"
  },
  "language_info": {
   "codemirror_mode": {
    "name": "ipython",
    "version": 3
   },
   "file_extension": ".py",
   "mimetype": "text/x-python",
   "name": "python",
   "nbconvert_exporter": "python",
   "pygments_lexer": "ipython3",
   "version": "3.8.6"
  }
 },
 "nbformat": 4,
 "nbformat_minor": 5
}
